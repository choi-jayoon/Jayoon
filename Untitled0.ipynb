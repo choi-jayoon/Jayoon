{
  "nbformat": 4,
  "nbformat_minor": 0,
  "metadata": {
    "colab": {
      "name": "Untitled0.ipynb",
      "provenance": [],
      "authorship_tag": "ABX9TyPl71lOfQDfQWkPwMC5G0F1",
      "include_colab_link": true
    },
    "kernelspec": {
      "name": "python3",
      "display_name": "Python 3"
    }
  },
  "cells": [
    {
      "cell_type": "markdown",
      "metadata": {
        "id": "view-in-github",
        "colab_type": "text"
      },
      "source": [
        "<a href=\"https://colab.research.google.com/github/choi-jayoon/Jayoon/blob/master/Untitled0.ipynb\" target=\"_parent\"><img src=\"https://colab.research.google.com/assets/colab-badge.svg\" alt=\"Open In Colab\"/></a>"
      ]
    },
    {
      "cell_type": "markdown",
      "metadata": {
        "id": "sXhz39-o_UQL",
        "colab_type": "text"
      },
      "source": [
        "[1주차 과제]"
      ]
    },
    {
      "cell_type": "markdown",
      "metadata": {
        "id": "9fDtZ1gu_cem",
        "colab_type": "text"
      },
      "source": [
        "언어\n",
        "---\n",
        "실시간 통,번역기(지니톡고)\n",
        "\n",
        "---\n",
        "->음성을 문자로 변환하여 번역함\n",
        "\n"
      ]
    },
    {
      "cell_type": "markdown",
      "metadata": {
        "id": "bj822-_D_euD",
        "colab_type": "text"
      },
      "source": [
        "음성\n",
        "---\n",
        "\n",
        "음성 인식 서비스(기업 '삼성전자'의 빅스비)\n",
        "\n",
        "---\n",
        "->자연어 인식\n",
        "->자연어 처리 및 생성\n",
        "\n",
        "---\n",
        "\n",
        "\n",
        "->음성기반 딥러닝 기술\n",
        "->음성 패턴 분류 기술\n"
      ]
    },
    {
      "cell_type": "markdown",
      "metadata": {
        "id": "RlS1lvm1_fmI",
        "colab_type": "text"
      },
      "source": [
        "이미지\n",
        "---\n",
        "\n",
        "\n",
        "얼굴 인식 및 분석(기업'포렌텍'의 aisee)\n",
        "\n",
        "---\n",
        "\n",
        "\n",
        "-> 이미지 및 영상에 대한 실시간 얼굴 검출 및 분석 진행\n",
        "\n",
        "---\n",
        "\n",
        "\n",
        "-> 얼굴인식 신경망-랜드 마킹 신경망-벡터 추출 신경망-특징 추출 후 분석(성별, 연령, 감정, 이동방향 등)\n",
        "\n",
        "---\n",
        "\n",
        "\n",
        "->독자 신경망 보유, AI 얼굴인식 필요 목적에 맞춤형 활용\n",
        "\n"
      ]
    },
    {
      "cell_type": "markdown",
      "metadata": {
        "id": "qy2v2y4Y_ghL",
        "colab_type": "text"
      },
      "source": [
        "자율주행\n",
        "---\n",
        "자율주행 전동 킥보드(미국 큐리오시티 랩의 '고엑스(Go X)')\n",
        "\n",
        "---\n",
        "-> 사용자가 이용을 마치고 킥보드를 세워두면 스스로 지정된 주차 장소로 이동해 대기함.\n",
        "\n",
        "---\n",
        "-> 관리자가 곳곳에 세워진 킥보드를 수거하는 수고를 덜고, 지정 주차장소에서 정비와 청소, 충전을 진행할 수 있어 관리 효율은 물론 이용율도 높일 수 있을 것이다.\n",
        "\n"
      ]
    }
  ]
}